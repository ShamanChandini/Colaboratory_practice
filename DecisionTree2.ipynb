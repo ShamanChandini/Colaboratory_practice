{
  "nbformat": 4,
  "nbformat_minor": 0,
  "metadata": {
    "colab": {
      "provenance": [],
      "authorship_tag": "ABX9TyPaVuhQcaUx54FDBJa+fs+/",
      "include_colab_link": true
    },
    "kernelspec": {
      "name": "python3",
      "display_name": "Python 3"
    },
    "language_info": {
      "name": "python"
    }
  },
  "cells": [
    {
      "cell_type": "markdown",
      "metadata": {
        "id": "view-in-github",
        "colab_type": "text"
      },
      "source": [
        "<a href=\"https://colab.research.google.com/github/ShamanChandini/Colaboratory_practice/blob/main/DecisionTree2.ipynb\" target=\"_parent\"><img src=\"https://colab.research.google.com/assets/colab-badge.svg\" alt=\"Open In Colab\"/></a>"
      ]
    },
    {
      "cell_type": "code",
      "source": [
        "pip install pandas"
      ],
      "metadata": {
        "colab": {
          "base_uri": "https://localhost:8080/"
        },
        "id": "ur7Lu78rUOcb",
        "outputId": "c0f3d16f-4237-4b2e-a423-e19658baab0b"
      },
      "execution_count": 1,
      "outputs": [
        {
          "output_type": "stream",
          "name": "stdout",
          "text": [
            "Looking in indexes: https://pypi.org/simple, https://us-python.pkg.dev/colab-wheels/public/simple/\n",
            "Requirement already satisfied: pandas in /usr/local/lib/python3.7/dist-packages (1.3.5)\n",
            "Requirement already satisfied: python-dateutil>=2.7.3 in /usr/local/lib/python3.7/dist-packages (from pandas) (2.8.2)\n",
            "Requirement already satisfied: numpy>=1.17.3 in /usr/local/lib/python3.7/dist-packages (from pandas) (1.21.6)\n",
            "Requirement already satisfied: pytz>=2017.3 in /usr/local/lib/python3.7/dist-packages (from pandas) (2022.2.1)\n",
            "Requirement already satisfied: six>=1.5 in /usr/local/lib/python3.7/dist-packages (from python-dateutil>=2.7.3->pandas) (1.15.0)\n"
          ]
        }
      ]
    },
    {
      "cell_type": "code",
      "execution_count": 3,
      "metadata": {
        "id": "6EXM6QqnTKrV"
      },
      "outputs": [],
      "source": [
        "import numpy as np\n",
        "import pandas as pd\n",
        "import math"
      ]
    },
    {
      "cell_type": "code",
      "source": [
        "dt=pd.read_csv(\"/content/ENJOYSPORT.csv\")"
      ],
      "metadata": {
        "id": "7Np9ZwH9UXMF"
      },
      "execution_count": 17,
      "outputs": []
    },
    {
      "cell_type": "code",
      "source": [
        "print(dt)"
      ],
      "metadata": {
        "colab": {
          "base_uri": "https://localhost:8080/"
        },
        "id": "02K1cFRwUg8N",
        "outputId": "1a066b6e-7530-4a8b-a5e5-b5690266ccf5"
      },
      "execution_count": 18,
      "outputs": [
        {
          "output_type": "stream",
          "name": "stdout",
          "text": [
            "     Sky AirTemp Humidity    Wind Water Forecast EnjoySport\n",
            "0  Sunny    Warm   Normal  Strong  Warm     Same        yes\n",
            "1  Sunny    Warm     High  Strong  Warm     Same        yes\n",
            "2  Rainy    Cold     High  Strong  Warm   Change         no\n",
            "3  Sunny    Warm     High  Strong  Cool   Change        yes\n"
          ]
        }
      ]
    },
    {
      "cell_type": "code",
      "source": [
        "target=dt.iloc[:,-1]\n",
        "sky=dt.iloc[:,0:1]"
      ],
      "metadata": {
        "id": "5fOZUJrQUnc9"
      },
      "execution_count": 19,
      "outputs": []
    },
    {
      "cell_type": "code",
      "source": [
        "dt"
      ],
      "metadata": {
        "colab": {
          "base_uri": "https://localhost:8080/",
          "height": 175
        },
        "id": "fbz8A-A1VB6d",
        "outputId": "31c35041-97fe-4883-a248-048ea2eaa931"
      },
      "execution_count": 20,
      "outputs": [
        {
          "output_type": "execute_result",
          "data": {
            "text/plain": [
              "     Sky AirTemp Humidity    Wind Water Forecast EnjoySport\n",
              "0  Sunny    Warm   Normal  Strong  Warm     Same        yes\n",
              "1  Sunny    Warm     High  Strong  Warm     Same        yes\n",
              "2  Rainy    Cold     High  Strong  Warm   Change         no\n",
              "3  Sunny    Warm     High  Strong  Cool   Change        yes"
            ],
            "text/html": [
              "\n",
              "  <div id=\"df-dfefe93d-d2b3-4674-a9af-155b55b562a5\">\n",
              "    <div class=\"colab-df-container\">\n",
              "      <div>\n",
              "<style scoped>\n",
              "    .dataframe tbody tr th:only-of-type {\n",
              "        vertical-align: middle;\n",
              "    }\n",
              "\n",
              "    .dataframe tbody tr th {\n",
              "        vertical-align: top;\n",
              "    }\n",
              "\n",
              "    .dataframe thead th {\n",
              "        text-align: right;\n",
              "    }\n",
              "</style>\n",
              "<table border=\"1\" class=\"dataframe\">\n",
              "  <thead>\n",
              "    <tr style=\"text-align: right;\">\n",
              "      <th></th>\n",
              "      <th>Sky</th>\n",
              "      <th>AirTemp</th>\n",
              "      <th>Humidity</th>\n",
              "      <th>Wind</th>\n",
              "      <th>Water</th>\n",
              "      <th>Forecast</th>\n",
              "      <th>EnjoySport</th>\n",
              "    </tr>\n",
              "  </thead>\n",
              "  <tbody>\n",
              "    <tr>\n",
              "      <th>0</th>\n",
              "      <td>Sunny</td>\n",
              "      <td>Warm</td>\n",
              "      <td>Normal</td>\n",
              "      <td>Strong</td>\n",
              "      <td>Warm</td>\n",
              "      <td>Same</td>\n",
              "      <td>yes</td>\n",
              "    </tr>\n",
              "    <tr>\n",
              "      <th>1</th>\n",
              "      <td>Sunny</td>\n",
              "      <td>Warm</td>\n",
              "      <td>High</td>\n",
              "      <td>Strong</td>\n",
              "      <td>Warm</td>\n",
              "      <td>Same</td>\n",
              "      <td>yes</td>\n",
              "    </tr>\n",
              "    <tr>\n",
              "      <th>2</th>\n",
              "      <td>Rainy</td>\n",
              "      <td>Cold</td>\n",
              "      <td>High</td>\n",
              "      <td>Strong</td>\n",
              "      <td>Warm</td>\n",
              "      <td>Change</td>\n",
              "      <td>no</td>\n",
              "    </tr>\n",
              "    <tr>\n",
              "      <th>3</th>\n",
              "      <td>Sunny</td>\n",
              "      <td>Warm</td>\n",
              "      <td>High</td>\n",
              "      <td>Strong</td>\n",
              "      <td>Cool</td>\n",
              "      <td>Change</td>\n",
              "      <td>yes</td>\n",
              "    </tr>\n",
              "  </tbody>\n",
              "</table>\n",
              "</div>\n",
              "      <button class=\"colab-df-convert\" onclick=\"convertToInteractive('df-dfefe93d-d2b3-4674-a9af-155b55b562a5')\"\n",
              "              title=\"Convert this dataframe to an interactive table.\"\n",
              "              style=\"display:none;\">\n",
              "        \n",
              "  <svg xmlns=\"http://www.w3.org/2000/svg\" height=\"24px\"viewBox=\"0 0 24 24\"\n",
              "       width=\"24px\">\n",
              "    <path d=\"M0 0h24v24H0V0z\" fill=\"none\"/>\n",
              "    <path d=\"M18.56 5.44l.94 2.06.94-2.06 2.06-.94-2.06-.94-.94-2.06-.94 2.06-2.06.94zm-11 1L8.5 8.5l.94-2.06 2.06-.94-2.06-.94L8.5 2.5l-.94 2.06-2.06.94zm10 10l.94 2.06.94-2.06 2.06-.94-2.06-.94-.94-2.06-.94 2.06-2.06.94z\"/><path d=\"M17.41 7.96l-1.37-1.37c-.4-.4-.92-.59-1.43-.59-.52 0-1.04.2-1.43.59L10.3 9.45l-7.72 7.72c-.78.78-.78 2.05 0 2.83L4 21.41c.39.39.9.59 1.41.59.51 0 1.02-.2 1.41-.59l7.78-7.78 2.81-2.81c.8-.78.8-2.07 0-2.86zM5.41 20L4 18.59l7.72-7.72 1.47 1.35L5.41 20z\"/>\n",
              "  </svg>\n",
              "      </button>\n",
              "      \n",
              "  <style>\n",
              "    .colab-df-container {\n",
              "      display:flex;\n",
              "      flex-wrap:wrap;\n",
              "      gap: 12px;\n",
              "    }\n",
              "\n",
              "    .colab-df-convert {\n",
              "      background-color: #E8F0FE;\n",
              "      border: none;\n",
              "      border-radius: 50%;\n",
              "      cursor: pointer;\n",
              "      display: none;\n",
              "      fill: #1967D2;\n",
              "      height: 32px;\n",
              "      padding: 0 0 0 0;\n",
              "      width: 32px;\n",
              "    }\n",
              "\n",
              "    .colab-df-convert:hover {\n",
              "      background-color: #E2EBFA;\n",
              "      box-shadow: 0px 1px 2px rgba(60, 64, 67, 0.3), 0px 1px 3px 1px rgba(60, 64, 67, 0.15);\n",
              "      fill: #174EA6;\n",
              "    }\n",
              "\n",
              "    [theme=dark] .colab-df-convert {\n",
              "      background-color: #3B4455;\n",
              "      fill: #D2E3FC;\n",
              "    }\n",
              "\n",
              "    [theme=dark] .colab-df-convert:hover {\n",
              "      background-color: #434B5C;\n",
              "      box-shadow: 0px 1px 3px 1px rgba(0, 0, 0, 0.15);\n",
              "      filter: drop-shadow(0px 1px 2px rgba(0, 0, 0, 0.3));\n",
              "      fill: #FFFFFF;\n",
              "    }\n",
              "  </style>\n",
              "\n",
              "      <script>\n",
              "        const buttonEl =\n",
              "          document.querySelector('#df-dfefe93d-d2b3-4674-a9af-155b55b562a5 button.colab-df-convert');\n",
              "        buttonEl.style.display =\n",
              "          google.colab.kernel.accessAllowed ? 'block' : 'none';\n",
              "\n",
              "        async function convertToInteractive(key) {\n",
              "          const element = document.querySelector('#df-dfefe93d-d2b3-4674-a9af-155b55b562a5');\n",
              "          const dataTable =\n",
              "            await google.colab.kernel.invokeFunction('convertToInteractive',\n",
              "                                                     [key], {});\n",
              "          if (!dataTable) return;\n",
              "\n",
              "          const docLinkHtml = 'Like what you see? Visit the ' +\n",
              "            '<a target=\"_blank\" href=https://colab.research.google.com/notebooks/data_table.ipynb>data table notebook</a>'\n",
              "            + ' to learn more about interactive tables.';\n",
              "          element.innerHTML = '';\n",
              "          dataTable['output_type'] = 'display_data';\n",
              "          await google.colab.output.renderOutput(dataTable, element);\n",
              "          const docLink = document.createElement('div');\n",
              "          docLink.innerHTML = docLinkHtml;\n",
              "          element.appendChild(docLink);\n",
              "        }\n",
              "      </script>\n",
              "    </div>\n",
              "  </div>\n",
              "  "
            ]
          },
          "metadata": {},
          "execution_count": 20
        }
      ]
    },
    {
      "cell_type": "code",
      "source": [
        "pip install math"
      ],
      "metadata": {
        "colab": {
          "base_uri": "https://localhost:8080/"
        },
        "id": "1KtSucBEVGTe",
        "outputId": "a24bb19a-56fe-482a-afbb-7496b856c8cf"
      },
      "execution_count": 22,
      "outputs": [
        {
          "output_type": "stream",
          "name": "stdout",
          "text": [
            "Looking in indexes: https://pypi.org/simple, https://us-python.pkg.dev/colab-wheels/public/simple/\n",
            "\u001b[31mERROR: Could not find a version that satisfies the requirement math (from versions: none)\u001b[0m\n",
            "\u001b[31mERROR: No matching distribution found for math\u001b[0m\n"
          ]
        }
      ]
    },
    {
      "cell_type": "code",
      "source": [
        "import math\n",
        "yes=0\n",
        "no=0\n",
        "for i in range(len(target)):\n",
        "  if target[i]==\"yes\":\n",
        "    yes=yes+1\n",
        "  else:\n",
        "    no=no+1\n",
        "print(yes)\n",
        "entropy=-(yes/len(target))*math.log((yes/len(target)),2)-(no/len(target))*math.log(no/len(target),2)\n",
        "print(entropy)"
      ],
      "metadata": {
        "colab": {
          "base_uri": "https://localhost:8080/"
        },
        "id": "n26H7AXdVN82",
        "outputId": "29ad046e-fcfe-42a5-8279-6652da6cc003"
      },
      "execution_count": 24,
      "outputs": [
        {
          "output_type": "stream",
          "name": "stdout",
          "text": [
            "3\n",
            "0.8112781244591328\n"
          ]
        }
      ]
    },
    {
      "cell_type": "code",
      "source": [
        "target=np.array(dt)[:,0]"
      ],
      "metadata": {
        "id": "8NW8bKWvXNTG"
      },
      "execution_count": 26,
      "outputs": []
    },
    {
      "cell_type": "code",
      "source": [
        "print(target)"
      ],
      "metadata": {
        "colab": {
          "base_uri": "https://localhost:8080/"
        },
        "id": "0UTFMlM_XaLt",
        "outputId": "a48af068-f6c6-4615-acc8-a899707fb513"
      },
      "execution_count": 28,
      "outputs": [
        {
          "output_type": "stream",
          "name": "stdout",
          "text": [
            "['Sunny' 'Sunny' 'Rainy' 'Sunny']\n"
          ]
        }
      ]
    },
    {
      "cell_type": "code",
      "source": [
        "Sunny=0\n",
        "Rainy=0\n",
        "for i in range(len(target)):\n",
        "  if target[i]==\"Sunny\":\n",
        "    Sunny=Sunny+1\n",
        "  else: \n",
        "    target[i]==\"Rainy\"\n",
        "    Rainy=Rainy+1\n",
        "print(Sunny)\n",
        "print(Rainy)"
      ],
      "metadata": {
        "colab": {
          "base_uri": "https://localhost:8080/"
        },
        "id": "dBO2BxWWXc_X",
        "outputId": "092a553e-cc42-4e81-b670-dd733306eea5"
      },
      "execution_count": 32,
      "outputs": [
        {
          "output_type": "stream",
          "name": "stdout",
          "text": [
            "3\n",
            "1\n"
          ]
        }
      ]
    },
    {
      "cell_type": "code",
      "source": [
        "entropy=-(Sunny/len(target))*math.log((Sunny/len(target)),2)-(Rainy/len(target))*math.log(Rainy/len(target),2)\n",
        "print(entropy)"
      ],
      "metadata": {
        "colab": {
          "base_uri": "https://localhost:8080/"
        },
        "id": "xobvbsWtY-FN",
        "outputId": "eefe401d-dc48-4b55-f4f2-dd0ac8ff5afd"
      },
      "execution_count": 43,
      "outputs": [
        {
          "output_type": "stream",
          "name": "stdout",
          "text": [
            "0.8112781244591328\n"
          ]
        }
      ]
    },
    {
      "cell_type": "code",
      "source": [
        "target=np.array(dt)[:,2]\n",
        "print(target)"
      ],
      "metadata": {
        "colab": {
          "base_uri": "https://localhost:8080/"
        },
        "id": "JTpEV_xCZS9-",
        "outputId": "33d3d97e-970f-45ce-93df-f03f52e6d83a"
      },
      "execution_count": 44,
      "outputs": [
        {
          "output_type": "stream",
          "name": "stdout",
          "text": [
            "['Normal' 'High' 'High' 'High']\n"
          ]
        }
      ]
    },
    {
      "cell_type": "code",
      "source": [
        "Normal=0\n",
        "High=0\n",
        "for i in range(len(target)):\n",
        "  if target[i]==\"Normal\":\n",
        "    Normal=Normal+1\n",
        "  else: \n",
        "    High=High+1\n",
        "print(High)\n",
        "print(Normal)\n",
        "entropy=-(Normal/len(target))*math.log((Normal/len(target)),2)-(High/len(target))*math.log(High/len(target),2)\n",
        "print(entropy)"
      ],
      "metadata": {
        "colab": {
          "base_uri": "https://localhost:8080/"
        },
        "id": "ZGr8_zFhZnHV",
        "outputId": "2896a95c-d6df-4701-dbb8-9aada3a44012"
      },
      "execution_count": 45,
      "outputs": [
        {
          "output_type": "stream",
          "name": "stdout",
          "text": [
            "3\n",
            "1\n",
            "0.8112781244591328\n"
          ]
        }
      ]
    }
  ]
}
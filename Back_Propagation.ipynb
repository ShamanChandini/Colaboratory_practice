{
  "nbformat": 4,
  "nbformat_minor": 0,
  "metadata": {
    "colab": {
      "provenance": [],
      "authorship_tag": "ABX9TyOTQg2cn4glHIGgoF4i88Af",
      "include_colab_link": true
    },
    "kernelspec": {
      "name": "python3",
      "display_name": "Python 3"
    },
    "language_info": {
      "name": "python"
    }
  },
  "cells": [
    {
      "cell_type": "markdown",
      "metadata": {
        "id": "view-in-github",
        "colab_type": "text"
      },
      "source": [
        "<a href=\"https://colab.research.google.com/github/ShamanChandini/Colaboratory_practice/blob/main/Back_Propagation.ipynb\" target=\"_parent\"><img src=\"https://colab.research.google.com/assets/colab-badge.svg\" alt=\"Open In Colab\"/></a>"
      ]
    },
    {
      "cell_type": "code",
      "execution_count": 1,
      "metadata": {
        "id": "Sqh7iMdDdV_z",
        "colab": {
          "base_uri": "https://localhost:8080/"
        },
        "outputId": "57b71b33-207a-4c98-9e82-e10daf30b27d"
      },
      "outputs": [
        {
          "output_type": "stream",
          "name": "stdout",
          "text": [
            "small x [[2. 9.]\n",
            " [1. 5.]\n",
            " [3. 6.]]\n"
          ]
        }
      ],
      "source": [
        "import numpy as np\n",
        "\n",
        "x = np.array(([2, 9], [1, 5], [3, 6]), dtype=float)\n",
        "\n",
        "print(\"small x\",x)"
      ]
    },
    {
      "cell_type": "code",
      "source": [
        "y = np.array(([92], [86], [89]), dtype=float)"
      ],
      "metadata": {
        "id": "XHMD-_F8PJtz"
      },
      "execution_count": 2,
      "outputs": []
    },
    {
      "cell_type": "code",
      "source": [
        "x = x/np.amax(x,axis=0) #maximum along the first axis \n",
        "\n",
        "print(\"Capital X\",x)"
      ],
      "metadata": {
        "colab": {
          "base_uri": "https://localhost:8080/"
        },
        "id": "sHX-P5-uPYNQ",
        "outputId": "b4a08238-26ac-4140-db50-5e510fda10b3"
      },
      "execution_count": 8,
      "outputs": [
        {
          "output_type": "stream",
          "name": "stdout",
          "text": [
            "Capital X [[0.66666667 1.        ]\n",
            " [0.33333333 0.55555556]\n",
            " [1.         0.66666667]]\n"
          ]
        }
      ]
    },
    {
      "cell_type": "code",
      "source": [
        "#Defining Sigmoid Function for output \n",
        "\n",
        "def sigmoid (x):\n",
        "\n",
        "    return (1/(1 + np.exp(-x)))"
      ],
      "metadata": {
        "id": "CNnm7FYJQMmr"
      },
      "execution_count": 9,
      "outputs": []
    },
    {
      "cell_type": "code",
      "source": [
        "#Derivative of Sigmoid Function\n",
        "\n",
        "def derivatives_sigmoid(x):\n",
        "\n",
        "    return x * (1 - x)"
      ],
      "metadata": {
        "id": "5PDFDV2_QPey"
      },
      "execution_count": 10,
      "outputs": []
    },
    {
      "cell_type": "code",
      "source": [
        "#Variables initialization\n",
        "\n",
        "epoch=7000 #Setting training iterations\n",
        "\n",
        "lr=0.1 #Setting learning rate"
      ],
      "metadata": {
        "id": "vLTuWz8oQVt5"
      },
      "execution_count": 11,
      "outputs": []
    },
    {
      "cell_type": "code",
      "source": [
        "inputlayer_neurons = 2 #number of input layer neurons \n",
        "\n",
        "hiddenlayer_neurons = 3 #number of hidden layers neurons\n",
        "\n",
        "output_neurons = 1 #number of neurons at output layer"
      ],
      "metadata": {
        "id": "kSbM7E3_QZ3X"
      },
      "execution_count": 12,
      "outputs": []
    },
    {
      "cell_type": "code",
      "source": [
        "#Defining weight and biases for hidden and output layer \n",
        "\n",
        "wh=np.random.uniform(size=(inputlayer_neurons,hiddenlayer_neurons))\n",
        "\n",
        "bh=np.random.uniform(size=(1,hiddenlayer_neurons))\n",
        "\n",
        "wout=np.random.uniform(size=(hiddenlayer_neurons,output_neurons))\n",
        "\n",
        "bout=np.random.uniform(size=(1,output_neurons))"
      ],
      "metadata": {
        "id": "fSFTniRZQePk"
      },
      "execution_count": 16,
      "outputs": []
    },
    {
      "cell_type": "code",
      "source": [
        "#Forward Propagation \n",
        "\n",
        "for i in range(epoch):\n",
        "\n",
        "    hinp1=np.dot(x,wh) \n",
        "\n",
        "    hinp=hinp1 + bh\n",
        "\n",
        "    hlayer_act = sigmoid(hinp)\n",
        "\n",
        "    outinp1=np.dot(hlayer_act,wout)\n",
        "\n",
        "    outinp= outinp1+ bout\n",
        "\n",
        "    output = sigmoid(outinp)"
      ],
      "metadata": {
        "id": "9pMEUGI4QoXc"
      },
      "execution_count": 18,
      "outputs": []
    },
    {
      "cell_type": "code",
      "source": [
        "#Backpropagation Algorithm \n",
        "\n",
        "EO = y-output\n",
        "\n",
        "outgrad = derivatives_sigmoid(output)\n",
        "\n",
        "d_output = EO* outgrad\n",
        "\n",
        "EH = d_output.dot(wout.T)\n",
        "\n",
        "hiddengrad = derivatives_sigmoid(hlayer_act)"
      ],
      "metadata": {
        "id": "RSQ7hoPYQlPb"
      },
      "execution_count": 19,
      "outputs": []
    },
    {
      "cell_type": "code",
      "source": [
        "#how much hidden layer wts contributed to error\n",
        "\n",
        "d_hiddenlayer = EH * hiddengrad\n",
        "\n",
        "wout += hlayer_act.T.dot(d_output) *lr"
      ],
      "metadata": {
        "id": "xaCz8mmSQ0kg"
      },
      "execution_count": 20,
      "outputs": []
    },
    {
      "cell_type": "code",
      "source": [
        "# dotproduct of nextlayererror and currentlayerop\n",
        "\n",
        "bout += np.sum(d_output, axis=0,keepdims=True) *lr"
      ],
      "metadata": {
        "id": "445DsZvPQ3hd"
      },
      "execution_count": 21,
      "outputs": []
    },
    {
      "cell_type": "code",
      "source": [
        "#Updating Weights\n",
        "\n",
        "wh += x.T.dot(d_hiddenlayer) *lr\n",
        "\n",
        "print(\"Actual Output: \\n\" + str(y))\n",
        "\n",
        "print(\"Predicted Output: \\n\" ,output)"
      ],
      "metadata": {
        "colab": {
          "base_uri": "https://localhost:8080/"
        },
        "id": "-G4H7DFRQ6gT",
        "outputId": "9d431c12-74ab-4c2f-e094-e1e4a045eaf5"
      },
      "execution_count": 23,
      "outputs": [
        {
          "output_type": "stream",
          "name": "stdout",
          "text": [
            "Actual Output: \n",
            "[[92.]\n",
            " [86.]\n",
            " [89.]]\n",
            "Predicted Output: \n",
            " [[0.76887084]\n",
            " [0.75035938]\n",
            " [0.76466219]]\n"
          ]
        }
      ]
    }
  ]
}
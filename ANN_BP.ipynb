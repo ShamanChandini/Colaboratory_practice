{
  "nbformat": 4,
  "nbformat_minor": 0,
  "metadata": {
    "colab": {
      "provenance": [],
      "authorship_tag": "ABX9TyPBTK/8afixrXP2iHkJP7Vb",
      "include_colab_link": true
    },
    "kernelspec": {
      "name": "python3",
      "display_name": "Python 3"
    },
    "language_info": {
      "name": "python"
    }
  },
  "cells": [
    {
      "cell_type": "markdown",
      "metadata": {
        "id": "view-in-github",
        "colab_type": "text"
      },
      "source": [
        "<a href=\"https://colab.research.google.com/github/ShamanChandini/Colaboratory_practice/blob/main/ANN_BP.ipynb\" target=\"_parent\"><img src=\"https://colab.research.google.com/assets/colab-badge.svg\" alt=\"Open In Colab\"/></a>"
      ]
    },
    {
      "cell_type": "code",
      "execution_count": 1,
      "metadata": {
        "id": "k0yz20jZz32X"
      },
      "outputs": [],
      "source": [
        "import numpy\n",
        "import matplotlib.pyplot"
      ]
    },
    {
      "cell_type": "code",
      "source": [
        "def sigmoid(sop):\n",
        "    return 1.0/(1+numpy.exp(-1*sop))"
      ],
      "metadata": {
        "id": "2MfiLAxq0BVQ"
      },
      "execution_count": 2,
      "outputs": []
    },
    {
      "cell_type": "code",
      "source": [
        "def error(predicted, target):\n",
        "    return numpy.power(predicted-target, 2)"
      ],
      "metadata": {
        "id": "GrP8Ns250EJy"
      },
      "execution_count": 3,
      "outputs": []
    },
    {
      "cell_type": "code",
      "source": [
        "def error_predicted_deriv(predicted, target):\n",
        "    return 2*(predicted-target)\n"
      ],
      "metadata": {
        "id": "kdc641p10G7v"
      },
      "execution_count": 4,
      "outputs": []
    },
    {
      "cell_type": "code",
      "source": [
        "def sigmoid_sop_deriv(sop):\n",
        "    return sigmoid(sop)*(1.0-sigmoid(sop))"
      ],
      "metadata": {
        "id": "RAKnmve80J-3"
      },
      "execution_count": 5,
      "outputs": []
    },
    {
      "cell_type": "code",
      "source": [
        "def sop_w_deriv(x):\n",
        "    return x"
      ],
      "metadata": {
        "id": "Xf14JZgt0NEl"
      },
      "execution_count": 6,
      "outputs": []
    },
    {
      "cell_type": "code",
      "source": [
        "def update_w(w, grad, learning_rate):\n",
        "    return w - learning_rate*grad\n",
        "\n",
        "x1=0.1\n",
        "x2=0.4\n",
        "\n",
        "target = 0.7\n",
        "learning_rate = 0.01\n",
        "\n",
        "w1=numpy.random.rand()\n",
        "w2=numpy.random.rand()"
      ],
      "metadata": {
        "id": "QcImuiYF0RlI"
      },
      "execution_count": 7,
      "outputs": []
    },
    {
      "cell_type": "code",
      "source": [
        "print(\"Initial W : \", w1, w2)\n",
        "\n",
        "predicted_output = []\n",
        "network_error = []\n",
        "\n",
        "old_err = 0"
      ],
      "metadata": {
        "colab": {
          "base_uri": "https://localhost:8080/"
        },
        "id": "iOoKfNLO0UiP",
        "outputId": "c242b746-7863-4df5-dd6e-281bd1dead72"
      },
      "execution_count": 8,
      "outputs": [
        {
          "output_type": "stream",
          "name": "stdout",
          "text": [
            "Initial W :  0.22208750849528758 0.9265411730806794\n"
          ]
        }
      ]
    },
    {
      "cell_type": "code",
      "source": [
        "for k in range(80000):\n",
        "    # Forward Pass\n",
        "    y = w1*x1 + w2*x2\n",
        "    predicted = sigmoid(y)\n",
        "    err = error(predicted, target)\n",
        "    \n",
        "    predicted_output.append(predicted)\n",
        "    network_error.append(err)"
      ],
      "metadata": {
        "id": "PiXFY-LF0bCr"
      },
      "execution_count": 9,
      "outputs": []
    },
    {
      "cell_type": "code",
      "source": [
        "# Backward Pass\n",
        "g1 = error_predicted_deriv(predicted, target)\n",
        "g2 = sigmoid_sop_deriv(y)\n",
        "g3w1 = sop_w_deriv(x1)\n",
        "g3w2 = sop_w_deriv(x2)\n",
        "gradw1 = g3w1*g2*g1\n",
        "gradw2 = g3w2*g2*g1\n",
        "\n",
        "w1 = update_w(w1, gradw1, learning_rate)\n",
        "w2 = update_w(w2, gradw2, learning_rate)"
      ],
      "metadata": {
        "id": "wo4J1aKj0d0P"
      },
      "execution_count": 14,
      "outputs": []
    },
    {
      "cell_type": "code",
      "source": [
        "print(predicted)"
      ],
      "metadata": {
        "colab": {
          "base_uri": "https://localhost:8080/"
        },
        "id": "1xJoJbH907c6",
        "outputId": "bd84b639-3b32-4953-9056-4ab312d3c52a"
      },
      "execution_count": 15,
      "outputs": [
        {
          "output_type": "stream",
          "name": "stdout",
          "text": [
            "0.5969626281087629\n"
          ]
        }
      ]
    },
    {
      "cell_type": "code",
      "source": [
        "matplotlib.pyplot.figure()\n",
        "matplotlib.pyplot.plot(network_error)\n",
        "matplotlib.pyplot.title(\"Iteration Number vs Error\")\n",
        "matplotlib.pyplot.xlabel(\"Iteration Number\")\n",
        "matplotlib.pyplot.ylabel(\"Error\")"
      ],
      "metadata": {
        "colab": {
          "base_uri": "https://localhost:8080/",
          "height": 312
        },
        "id": "LXSa3Oou1Bkn",
        "outputId": "d74324d5-c8bb-4e20-8bcf-d538b26737c0"
      },
      "execution_count": 16,
      "outputs": [
        {
          "output_type": "execute_result",
          "data": {
            "text/plain": [
              "Text(0, 0.5, 'Error')"
            ]
          },
          "metadata": {},
          "execution_count": 16
        },
        {
          "output_type": "display_data",
          "data": {
            "text/plain": [
              "<Figure size 432x288 with 1 Axes>"
            ],
            "image/png": "[encoded data removed]"
          },
          "metadata": {
            "needs_background": "light"
          }
        }
      ]
    },
    {
      "cell_type": "code",
      "source": [
        "matplotlib.pyplot.figure()\n",
        "matplotlib.pyplot.plot(predicted_output)\n",
        "matplotlib.pyplot.title(\"Iteration Number vs Prediction\")\n",
        "matplotlib.pyplot.xlabel(\"Iteration Number\")\n",
        "matplotlib.pyplot.ylabel(\"Prediction\")"
      ],
      "metadata": {
        "colab": {
          "base_uri": "https://localhost:8080/",
          "height": 312
        },
        "id": "dqE7GN8K1ERH",
        "outputId": "1ba8a8cc-4017-4563-d5fc-fa7cfaad0251"
      },
      "execution_count": 17,
      "outputs": [
        {
          "output_type": "execute_result",
          "data": {
            "text/plain": [
              "Text(0, 0.5, 'Prediction')"
            ]
          },
          "metadata": {},
          "execution_count": 17
        },
        {
          "output_type": "display_data",
          "data": {
            "text/plain": [
              "<Figure size 432x288 with 1 Axes>"
            ],
            "image/png": "[encoded data removed]"
          },
          "metadata": {
            "needs_background": "light"
          }
        }
      ]
    }
  ]
}